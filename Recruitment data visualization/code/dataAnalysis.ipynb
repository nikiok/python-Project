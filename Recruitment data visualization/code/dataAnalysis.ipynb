{
 "cells": [
  {
   "cell_type": "markdown",
   "source": [
    "# 数据分析\n",
    "'''用于分析数据将分析后得出数据传到echarts中'''"
   ],
   "metadata": {
    "collapsed": false,
    "pycharm": {
     "name": "#%% md\n"
    }
   }
  },
  {
   "cell_type": "code",
   "execution_count": 1,
   "outputs": [],
   "source": [
    "import pandas as pd\n",
    "import numpy as np\n",
    "import jieba\n",
    "import nltk\n",
    "import matplotlib.pyplot as plt\n",
    "plt.rcParams['font.family'] = ['SimHei']\n"
   ],
   "metadata": {
    "collapsed": false,
    "pycharm": {
     "name": "#%%\n"
    }
   }
  },
  {
   "cell_type": "code",
   "execution_count": 2,
   "outputs": [
    {
     "data": {
      "text/plain": "           标题       地址        工资  工作经验  学历               公司标签            公司名字  \\\n0    大数据开发工程师  上海·浦东新区      2-3万  5-7年  本科              计算机软件  丰盛信息科技（上海）有限公司   \n1  医用耗材大数据分析师   武汉·武昌区   6千-1.1万    1年  本科  计算机服务(系统、数据服务、维修)    武汉麦迪维斯技术有限公司   \n2    大数据开发工程师   北京·东城区  35-55万/年  5-7年  本科              计算机软件    中远海运科技股份有限公司   \n3    大数据开发工程师   广州·天河区   8千-1.6万    2年  本科  计算机服务(系统、数据服务、维修)    广州云杉信息科技有限公司   \n4     大数据项目经理   北京·东城区  35-55万/年  5-7年  本科              计算机软件    中远海运科技股份有限公司   \n\n      经营类型        公司规模                                               公司福利  城市  \\\n0  外资（非欧美）     50-150人  ['5-7年', '本科', 'spark', '大数据', '数据分析', 'python...  上海   \n1       民营       少于50人                                       ['1年', '本科']  武汉   \n2       国企  1000-5000人  ['5-7年', '本科', '五险一金', '补充医疗保险', '补充公积金', '交通补...  北京   \n3       合资       少于50人  ['2年', '本科', '大数据', '数据库', '数据分析', '周末双休', '五险...  广州   \n4       国企  1000-5000人  ['5-7年', '本科', '五险一金', '补充医疗保险', '补充公积金', '交通补...  北京   \n\n     城区  省份  平均薪水 薪水等级    行业领域  \n0  浦东新区  上海  25.0    高  IT/互联网  \n1   武昌区  湖北   8.5    低  IT/互联网  \n2   东城区  北京  37.5    高  IT/互联网  \n3   天河区  广东  12.0    中  IT/互联网  \n4   东城区  北京  37.5    高  IT/互联网  ",
      "text/html": "<div>\n<style scoped>\n    .dataframe tbody tr th:only-of-type {\n        vertical-align: middle;\n    }\n\n    .dataframe tbody tr th {\n        vertical-align: top;\n    }\n\n    .dataframe thead th {\n        text-align: right;\n    }\n</style>\n<table border=\"1\" class=\"dataframe\">\n  <thead>\n    <tr style=\"text-align: right;\">\n      <th></th>\n      <th>标题</th>\n      <th>地址</th>\n      <th>工资</th>\n      <th>工作经验</th>\n      <th>学历</th>\n      <th>公司标签</th>\n      <th>公司名字</th>\n      <th>经营类型</th>\n      <th>公司规模</th>\n      <th>公司福利</th>\n      <th>城市</th>\n      <th>城区</th>\n      <th>省份</th>\n      <th>平均薪水</th>\n      <th>薪水等级</th>\n      <th>行业领域</th>\n    </tr>\n  </thead>\n  <tbody>\n    <tr>\n      <th>0</th>\n      <td>大数据开发工程师</td>\n      <td>上海·浦东新区</td>\n      <td>2-3万</td>\n      <td>5-7年</td>\n      <td>本科</td>\n      <td>计算机软件</td>\n      <td>丰盛信息科技（上海）有限公司</td>\n      <td>外资（非欧美）</td>\n      <td>50-150人</td>\n      <td>['5-7年', '本科', 'spark', '大数据', '数据分析', 'python...</td>\n      <td>上海</td>\n      <td>浦东新区</td>\n      <td>上海</td>\n      <td>25.0</td>\n      <td>高</td>\n      <td>IT/互联网</td>\n    </tr>\n    <tr>\n      <th>1</th>\n      <td>医用耗材大数据分析师</td>\n      <td>武汉·武昌区</td>\n      <td>6千-1.1万</td>\n      <td>1年</td>\n      <td>本科</td>\n      <td>计算机服务(系统、数据服务、维修)</td>\n      <td>武汉麦迪维斯技术有限公司</td>\n      <td>民营</td>\n      <td>少于50人</td>\n      <td>['1年', '本科']</td>\n      <td>武汉</td>\n      <td>武昌区</td>\n      <td>湖北</td>\n      <td>8.5</td>\n      <td>低</td>\n      <td>IT/互联网</td>\n    </tr>\n    <tr>\n      <th>2</th>\n      <td>大数据开发工程师</td>\n      <td>北京·东城区</td>\n      <td>35-55万/年</td>\n      <td>5-7年</td>\n      <td>本科</td>\n      <td>计算机软件</td>\n      <td>中远海运科技股份有限公司</td>\n      <td>国企</td>\n      <td>1000-5000人</td>\n      <td>['5-7年', '本科', '五险一金', '补充医疗保险', '补充公积金', '交通补...</td>\n      <td>北京</td>\n      <td>东城区</td>\n      <td>北京</td>\n      <td>37.5</td>\n      <td>高</td>\n      <td>IT/互联网</td>\n    </tr>\n    <tr>\n      <th>3</th>\n      <td>大数据开发工程师</td>\n      <td>广州·天河区</td>\n      <td>8千-1.6万</td>\n      <td>2年</td>\n      <td>本科</td>\n      <td>计算机服务(系统、数据服务、维修)</td>\n      <td>广州云杉信息科技有限公司</td>\n      <td>合资</td>\n      <td>少于50人</td>\n      <td>['2年', '本科', '大数据', '数据库', '数据分析', '周末双休', '五险...</td>\n      <td>广州</td>\n      <td>天河区</td>\n      <td>广东</td>\n      <td>12.0</td>\n      <td>中</td>\n      <td>IT/互联网</td>\n    </tr>\n    <tr>\n      <th>4</th>\n      <td>大数据项目经理</td>\n      <td>北京·东城区</td>\n      <td>35-55万/年</td>\n      <td>5-7年</td>\n      <td>本科</td>\n      <td>计算机软件</td>\n      <td>中远海运科技股份有限公司</td>\n      <td>国企</td>\n      <td>1000-5000人</td>\n      <td>['5-7年', '本科', '五险一金', '补充医疗保险', '补充公积金', '交通补...</td>\n      <td>北京</td>\n      <td>东城区</td>\n      <td>北京</td>\n      <td>37.5</td>\n      <td>高</td>\n      <td>IT/互联网</td>\n    </tr>\n  </tbody>\n</table>\n</div>"
     },
     "execution_count": 2,
     "metadata": {},
     "output_type": "execute_result"
    }
   ],
   "source": [
    "df = pd.read_csv('./df.csv',encoding=\"ANSI\")\n",
    "df.head()"
   ],
   "metadata": {
    "collapsed": false,
    "pycharm": {
     "name": "#%%\n"
    }
   }
  },
  {
   "cell_type": "code",
   "execution_count": 3,
   "outputs": [],
   "source": [
    "# 公司福利词云\n",
    "a=[]\n",
    "for i in df['公司福利']:\n",
    "    for j in eval(i):\n",
    "        a.append(j) #将所有福利待遇词语放入一个列表进行关键词提取。"
   ],
   "metadata": {
    "collapsed": false,
    "pycharm": {
     "name": "#%%\n"
    }
   }
  },
  {
   "cell_type": "code",
   "execution_count": 6,
   "outputs": [],
   "source": [
    "#  获得公司福利 前30关键词\n",
    "import nltk\n",
    "from nltk.tokenize import word_tokenize\n",
    "from nltk.corpus import stopwords\n",
    "from nltk.probability import FreqDist\n",
    "\n",
    "def get_top_keywords(data):\n",
    "    # 将列表中的字符串合并为一个文本\n",
    "    text = \" \".join(data)\n",
    "\n",
    "    # 分词\n",
    "    tokens = word_tokenize(text)\n",
    "\n",
    "    # 去除停用词\n",
    "    stop_words = set(stopwords.words('english'))  # 英文停用词表\n",
    "    filtered_tokens = [word.lower() for word in tokens if word.lower() not in stop_words]\n",
    "\n",
    "    # 计算词频\n",
    "    fdist = FreqDist(filtered_tokens)\n",
    "\n",
    "    # 获取前30个关键词\n",
    "    top_keywords = fdist.most_common(30)\n",
    "\n",
    "    return [(keyword[0], keyword[1]) for keyword in top_keywords]"
   ],
   "metadata": {
    "collapsed": false,
    "pycharm": {
     "name": "#%%\n"
    }
   }
  },
  {
   "cell_type": "code",
   "execution_count": 7,
   "outputs": [
    {
     "data": {
      "text/plain": "[('五险一金', 6939),\n ('本科', 4795),\n ('绩效奖金', 4672),\n ('年终奖金', 4476),\n ('专业培训', 3728),\n ('大专', 3479),\n ('定期体检', 3418),\n ('餐饮补贴', 3233),\n ('3-4年', 2979),\n ('员工旅游', 2603),\n ('通讯补贴', 2391),\n ('交通补贴', 2290),\n ('节日福利', 1885),\n ('弹性工作', 1839),\n ('带薪年假', 1818),\n ('周末双休', 1639),\n ('2年', 1599),\n ('1年', 1593),\n ('5-7年', 1568),\n ('补充医疗保险', 1317),\n ('销售', 1066),\n ('无需经验', 817),\n ('数据分析', 790),\n ('股票期权', 702),\n ('大数据', 668),\n ('免费班车', 597),\n ('六险一金', 516),\n ('出国机会', 460),\n ('大客户销售', 450),\n ('下午茶', 438)]"
     },
     "execution_count": 7,
     "metadata": {},
     "output_type": "execute_result"
    }
   ],
   "source": [
    "# 词云图测试\n",
    "import matplotlib.pyplot as plt\n",
    "from wordcloud import WordCloud\n",
    "\n",
    "def draw_wordcloud(data):\n",
    "    text = \" \".join(data)\n",
    "    wordcloud = WordCloud(background_color='white', max_words=50, font_path='./simhei.ttf')\n",
    "    wordcloud.generate(text)\n",
    "\n",
    "    plt.imshow(wordcloud, interpolation='bilinear')\n",
    "    plt.axis('off')\n",
    "    plt.show()\n",
    "\n",
    "# 调用函数进行绘制\n",
    "data = get_top_keywords(a)\n",
    "# draw_wordcloud(data)\n",
    "data"
   ],
   "metadata": {
    "collapsed": false,
    "pycharm": {
     "name": "#%%\n"
    }
   }
  },
  {
   "cell_type": "code",
   "execution_count": 10,
   "outputs": [
    {
     "data": {
      "text/plain": "array(['50-150人', '少于50人', '1000-5000人', '150-500人', '500-1000人',\n       '10000人以上', '5000-10000人'], dtype=object)"
     },
     "execution_count": 10,
     "metadata": {},
     "output_type": "execute_result"
    }
   ],
   "source": [
    "df['公司规模'].unique()"
   ],
   "metadata": {
    "collapsed": false,
    "pycharm": {
     "name": "#%%\n"
    }
   }
  },
  {
   "cell_type": "code",
   "execution_count": 11,
   "outputs": [
    {
     "data": {
      "text/plain": "Index(['标题', '地址', '工资', '工作经验', '学历', '公司标签', '公司名字', '经营类型', '公司规模', '公司福利',\n       '城市', '城区', '省份', '平均薪水', '薪水等级', '行业领域'],\n      dtype='object')"
     },
     "execution_count": 11,
     "metadata": {},
     "output_type": "execute_result"
    }
   ],
   "source": [
    "df.columns\n"
   ],
   "metadata": {
    "collapsed": false,
    "pycharm": {
     "name": "#%%\n"
    }
   }
  },
  {
   "cell_type": "code",
   "execution_count": null,
   "outputs": [],
   "source": [],
   "metadata": {
    "collapsed": false,
    "pycharm": {
     "name": "#%%\n"
    }
   }
  }
 ],
 "metadata": {
  "kernelspec": {
   "display_name": "Python 3",
   "language": "python",
   "name": "python3"
  },
  "language_info": {
   "codemirror_mode": {
    "name": "ipython",
    "version": 2
   },
   "file_extension": ".py",
   "mimetype": "text/x-python",
   "name": "python",
   "nbconvert_exporter": "python",
   "pygments_lexer": "ipython2",
   "version": "2.7.6"
  }
 },
 "nbformat": 4,
 "nbformat_minor": 0
}