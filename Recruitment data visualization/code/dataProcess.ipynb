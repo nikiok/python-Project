{
 "cells": [
  {
   "cell_type": "markdown",
   "source": [
    "## 数据预处理 清洗"
   ],
   "metadata": {
    "collapsed": false,
    "pycharm": {
     "name": "#%% md\n"
    }
   }
  },
  {
   "cell_type": "code",
   "execution_count": null,
   "outputs": [],
   "source": [
    "import re\n",
    "import pandas as pd\n",
    "import numpy as np\n",
    "import jieba\n",
    "import nltk\n",
    "import matplotlib.pyplot as plt"
   ],
   "metadata": {
    "collapsed": false,
    "pycharm": {
     "name": "#%%\n"
    }
   }
  },
  {
   "cell_type": "code",
   "execution_count": 18,
   "outputs": [
    {
     "data": {
      "text/plain": "           标题       地址       工资                 发布日期  工作经验  学历  \\\n0    大数据开发工程师  上海·浦东新区     2-3万  2023-05-18 10:10:16  5-7年  本科   \n1  医用耗材大数据分析师   武汉·武昌区  6千-1.1万  2023-05-18 16:10:44    1年  本科   \n2      大数据分析师   北京·海淀区  8千-1.2万  2023-05-18 18:09:19    1年  大专   \n3    大数据开发工程师   北京·海淀区  8千-1.5万  2023-05-18 09:08:20    1年  大专   \n4    金融大数据分析师       北京  9千-1.5万  2023-05-18 18:08:30    1年  大专   \n\n                公司标签            公司名字     经营类型        公司纬度       公司经度     公司规模  \\\n0              计算机软件  丰盛信息科技（上海）有限公司  外资（非欧美）  121.556476  31.226450  50-150人   \n1  计算机服务(系统、数据服务、维修)    武汉麦迪维斯技术有限公司       民营  114.335941  30.584907    少于50人   \n2      电子技术/半导体/集成电路  京城宏图（北京）科技有限公司       合资  116.295057  39.966992      NaN   \n3              计算机软件  点奇互联（北京）科技有限公司       民营  116.306164  40.056660      NaN   \n4   快速消费品(食品、饮料、化妆品)     深圳市白牛贸易有限公司       民营  116.329937  39.910646      NaN   \n\n                                                公司福利  \n0  ['5-7年', '本科', 'spark', '大数据', '数据分析', 'python...  \n1                                       ['1年', '本科']  \n2  ['1年', '大专', '数据分析', 'SPSS', 'R语言', 'C+', '五险一...  \n3  ['1年', '大专', 'java', '数据库', 'spring', 'mybatis...  \n4  ['1年', '大专', '数据分析', 'SPSS', 'C+', 'R语言', '绩效奖...  ",
      "text/html": "<div>\n<style scoped>\n    .dataframe tbody tr th:only-of-type {\n        vertical-align: middle;\n    }\n\n    .dataframe tbody tr th {\n        vertical-align: top;\n    }\n\n    .dataframe thead th {\n        text-align: right;\n    }\n</style>\n<table border=\"1\" class=\"dataframe\">\n  <thead>\n    <tr style=\"text-align: right;\">\n      <th></th>\n      <th>标题</th>\n      <th>地址</th>\n      <th>工资</th>\n      <th>发布日期</th>\n      <th>工作经验</th>\n      <th>学历</th>\n      <th>公司标签</th>\n      <th>公司名字</th>\n      <th>经营类型</th>\n      <th>公司纬度</th>\n      <th>公司经度</th>\n      <th>公司规模</th>\n      <th>公司福利</th>\n    </tr>\n  </thead>\n  <tbody>\n    <tr>\n      <th>0</th>\n      <td>大数据开发工程师</td>\n      <td>上海·浦东新区</td>\n      <td>2-3万</td>\n      <td>2023-05-18 10:10:16</td>\n      <td>5-7年</td>\n      <td>本科</td>\n      <td>计算机软件</td>\n      <td>丰盛信息科技（上海）有限公司</td>\n      <td>外资（非欧美）</td>\n      <td>121.556476</td>\n      <td>31.226450</td>\n      <td>50-150人</td>\n      <td>['5-7年', '本科', 'spark', '大数据', '数据分析', 'python...</td>\n    </tr>\n    <tr>\n      <th>1</th>\n      <td>医用耗材大数据分析师</td>\n      <td>武汉·武昌区</td>\n      <td>6千-1.1万</td>\n      <td>2023-05-18 16:10:44</td>\n      <td>1年</td>\n      <td>本科</td>\n      <td>计算机服务(系统、数据服务、维修)</td>\n      <td>武汉麦迪维斯技术有限公司</td>\n      <td>民营</td>\n      <td>114.335941</td>\n      <td>30.584907</td>\n      <td>少于50人</td>\n      <td>['1年', '本科']</td>\n    </tr>\n    <tr>\n      <th>2</th>\n      <td>大数据分析师</td>\n      <td>北京·海淀区</td>\n      <td>8千-1.2万</td>\n      <td>2023-05-18 18:09:19</td>\n      <td>1年</td>\n      <td>大专</td>\n      <td>电子技术/半导体/集成电路</td>\n      <td>京城宏图（北京）科技有限公司</td>\n      <td>合资</td>\n      <td>116.295057</td>\n      <td>39.966992</td>\n      <td>NaN</td>\n      <td>['1年', '大专', '数据分析', 'SPSS', 'R语言', 'C+', '五险一...</td>\n    </tr>\n    <tr>\n      <th>3</th>\n      <td>大数据开发工程师</td>\n      <td>北京·海淀区</td>\n      <td>8千-1.5万</td>\n      <td>2023-05-18 09:08:20</td>\n      <td>1年</td>\n      <td>大专</td>\n      <td>计算机软件</td>\n      <td>点奇互联（北京）科技有限公司</td>\n      <td>民营</td>\n      <td>116.306164</td>\n      <td>40.056660</td>\n      <td>NaN</td>\n      <td>['1年', '大专', 'java', '数据库', 'spring', 'mybatis...</td>\n    </tr>\n    <tr>\n      <th>4</th>\n      <td>金融大数据分析师</td>\n      <td>北京</td>\n      <td>9千-1.5万</td>\n      <td>2023-05-18 18:08:30</td>\n      <td>1年</td>\n      <td>大专</td>\n      <td>快速消费品(食品、饮料、化妆品)</td>\n      <td>深圳市白牛贸易有限公司</td>\n      <td>民营</td>\n      <td>116.329937</td>\n      <td>39.910646</td>\n      <td>NaN</td>\n      <td>['1年', '大专', '数据分析', 'SPSS', 'C+', 'R语言', '绩效奖...</td>\n    </tr>\n  </tbody>\n</table>\n</div>"
     },
     "execution_count": 18,
     "metadata": {},
     "output_type": "execute_result"
    }
   ],
   "source": [
    "df=pd.read_csv('./data.csv')\n",
    "df.head()"
   ],
   "metadata": {
    "collapsed": false,
    "pycharm": {
     "name": "#%%\n"
    }
   }
  },
  {
   "cell_type": "code",
   "execution_count": 19,
   "outputs": [
    {
     "name": "stdout",
     "output_type": "stream",
     "text": [
      "<class 'pandas.core.frame.DataFrame'>\n",
      "RangeIndex: 10000 entries, 0 to 9999\n",
      "Data columns (total 13 columns):\n",
      " #   Column  Non-Null Count  Dtype  \n",
      "---  ------  --------------  -----  \n",
      " 0   标题      10000 non-null  object \n",
      " 1   地址      10000 non-null  object \n",
      " 2   工资      9964 non-null   object \n",
      " 3   发布日期    10000 non-null  object \n",
      " 4   工作经验    9993 non-null   object \n",
      " 5   学历      9686 non-null   object \n",
      " 6   公司标签    9996 non-null   object \n",
      " 7   公司名字    10000 non-null  object \n",
      " 8   经营类型    9992 non-null   object \n",
      " 9   公司纬度    10000 non-null  float64\n",
      " 10  公司经度    10000 non-null  float64\n",
      " 11  公司规模    9300 non-null   object \n",
      " 12  公司福利    10000 non-null  object \n",
      "dtypes: float64(2), object(11)\n",
      "memory usage: 1015.8+ KB\n"
     ]
    }
   ],
   "source": [
    "df.info() #查看数据集的基本信息"
   ],
   "metadata": {
    "collapsed": false,
    "pycharm": {
     "name": "#%%\n"
    }
   }
  },
  {
   "cell_type": "markdown",
   "source": [
    "# 数据的预处理\n",
    "'''\n",
    "1.对缺失值进行剔除\n",
    "2.对无效信息列进行删除\n",
    "3.对地址列进行分割：省,市,区\n",
    "5.对公司工资进行统一平均\n",
    "6.对公司福利进行关键词提取和词频统计\n",
    "'''"
   ],
   "metadata": {
    "collapsed": false,
    "pycharm": {
     "name": "#%% md\n"
    }
   }
  },
  {
   "cell_type": "code",
   "execution_count": 20,
   "outputs": [
    {
     "data": {
      "text/plain": "8976"
     },
     "execution_count": 20,
     "metadata": {},
     "output_type": "execute_result"
    }
   ],
   "source": [
    "# 处理缺失值\n",
    "# df['工资'].fillna('无',inplace=True)\n",
    "# df['工作经验'].fillna('无',inplace=True)\n",
    "# df['学历'].fillna('无',inplace=True)\n",
    "# df['公司标签'].fillna('无',inpalce=True)\n",
    "# df['经营类型'].fillna('无',inplace=True)\n",
    "# df['公司规模'].fillna('无',inplace=True)\n",
    "df=df.dropna(axis=0)\n",
    "df.shape[0]"
   ],
   "metadata": {
    "collapsed": false,
    "pycharm": {
     "name": "#%%\n"
    }
   }
  },
  {
   "cell_type": "code",
   "execution_count": 21,
   "outputs": [],
   "source": [
    "# 处理无效列\n",
    "del df['发布日期']\n",
    "del df['公司纬度']\n",
    "del df['公司经度']"
   ],
   "metadata": {
    "collapsed": false,
    "pycharm": {
     "name": "#%%\n"
    }
   }
  },
  {
   "cell_type": "code",
   "execution_count": 22,
   "outputs": [
    {
     "name": "stderr",
     "output_type": "stream",
     "text": [
      "C:\\Users\\niki0\\AppData\\Local\\Temp\\ipykernel_4936\\749655897.py:2: FutureWarning: In a future version of pandas all arguments of StringMethods.split except for the argument 'pat' will be keyword-only.\n",
      "  df[['城市','城区']]=df['地址'].str.split('·',2,expand=True)\n"
     ]
    },
    {
     "data": {
      "text/plain": "            标题       地址        工资  工作经验  学历               公司标签  \\\n0     大数据开发工程师  上海·浦东新区      2-3万  5-7年  本科              计算机软件   \n1   医用耗材大数据分析师   武汉·武昌区   6千-1.1万    1年  本科  计算机服务(系统、数据服务、维修)   \n5     大数据开发工程师   北京·东城区  35-55万/年  5-7年  本科              计算机软件   \n9     大数据开发工程师   广州·天河区   8千-1.6万    2年  本科  计算机服务(系统、数据服务、维修)   \n13     大数据项目经理   北京·东城区  35-55万/年  5-7年  本科              计算机软件   \n\n              公司名字     经营类型        公司规模  \\\n0   丰盛信息科技（上海）有限公司  外资（非欧美）     50-150人   \n1     武汉麦迪维斯技术有限公司       民营       少于50人   \n5     中远海运科技股份有限公司       国企  1000-5000人   \n9     广州云杉信息科技有限公司       合资       少于50人   \n13    中远海运科技股份有限公司       国企  1000-5000人   \n\n                                                 公司福利  城市    城区  \n0   ['5-7年', '本科', 'spark', '大数据', '数据分析', 'python...  上海  浦东新区  \n1                                        ['1年', '本科']  武汉   武昌区  \n5   ['5-7年', '本科', '五险一金', '补充医疗保险', '补充公积金', '交通补...  北京   东城区  \n9   ['2年', '本科', '大数据', '数据库', '数据分析', '周末双休', '五险...  广州   天河区  \n13  ['5-7年', '本科', '五险一金', '补充医疗保险', '补充公积金', '交通补...  北京   东城区  ",
      "text/html": "<div>\n<style scoped>\n    .dataframe tbody tr th:only-of-type {\n        vertical-align: middle;\n    }\n\n    .dataframe tbody tr th {\n        vertical-align: top;\n    }\n\n    .dataframe thead th {\n        text-align: right;\n    }\n</style>\n<table border=\"1\" class=\"dataframe\">\n  <thead>\n    <tr style=\"text-align: right;\">\n      <th></th>\n      <th>标题</th>\n      <th>地址</th>\n      <th>工资</th>\n      <th>工作经验</th>\n      <th>学历</th>\n      <th>公司标签</th>\n      <th>公司名字</th>\n      <th>经营类型</th>\n      <th>公司规模</th>\n      <th>公司福利</th>\n      <th>城市</th>\n      <th>城区</th>\n    </tr>\n  </thead>\n  <tbody>\n    <tr>\n      <th>0</th>\n      <td>大数据开发工程师</td>\n      <td>上海·浦东新区</td>\n      <td>2-3万</td>\n      <td>5-7年</td>\n      <td>本科</td>\n      <td>计算机软件</td>\n      <td>丰盛信息科技（上海）有限公司</td>\n      <td>外资（非欧美）</td>\n      <td>50-150人</td>\n      <td>['5-7年', '本科', 'spark', '大数据', '数据分析', 'python...</td>\n      <td>上海</td>\n      <td>浦东新区</td>\n    </tr>\n    <tr>\n      <th>1</th>\n      <td>医用耗材大数据分析师</td>\n      <td>武汉·武昌区</td>\n      <td>6千-1.1万</td>\n      <td>1年</td>\n      <td>本科</td>\n      <td>计算机服务(系统、数据服务、维修)</td>\n      <td>武汉麦迪维斯技术有限公司</td>\n      <td>民营</td>\n      <td>少于50人</td>\n      <td>['1年', '本科']</td>\n      <td>武汉</td>\n      <td>武昌区</td>\n    </tr>\n    <tr>\n      <th>5</th>\n      <td>大数据开发工程师</td>\n      <td>北京·东城区</td>\n      <td>35-55万/年</td>\n      <td>5-7年</td>\n      <td>本科</td>\n      <td>计算机软件</td>\n      <td>中远海运科技股份有限公司</td>\n      <td>国企</td>\n      <td>1000-5000人</td>\n      <td>['5-7年', '本科', '五险一金', '补充医疗保险', '补充公积金', '交通补...</td>\n      <td>北京</td>\n      <td>东城区</td>\n    </tr>\n    <tr>\n      <th>9</th>\n      <td>大数据开发工程师</td>\n      <td>广州·天河区</td>\n      <td>8千-1.6万</td>\n      <td>2年</td>\n      <td>本科</td>\n      <td>计算机服务(系统、数据服务、维修)</td>\n      <td>广州云杉信息科技有限公司</td>\n      <td>合资</td>\n      <td>少于50人</td>\n      <td>['2年', '本科', '大数据', '数据库', '数据分析', '周末双休', '五险...</td>\n      <td>广州</td>\n      <td>天河区</td>\n    </tr>\n    <tr>\n      <th>13</th>\n      <td>大数据项目经理</td>\n      <td>北京·东城区</td>\n      <td>35-55万/年</td>\n      <td>5-7年</td>\n      <td>本科</td>\n      <td>计算机软件</td>\n      <td>中远海运科技股份有限公司</td>\n      <td>国企</td>\n      <td>1000-5000人</td>\n      <td>['5-7年', '本科', '五险一金', '补充医疗保险', '补充公积金', '交通补...</td>\n      <td>北京</td>\n      <td>东城区</td>\n    </tr>\n  </tbody>\n</table>\n</div>"
     },
     "execution_count": 22,
     "metadata": {},
     "output_type": "execute_result"
    }
   ],
   "source": [
    "# 处理地址\n",
    "df[['城市','城区']]=df['地址'].str.split('·',2,expand=True)\n",
    "df.head()"
   ],
   "metadata": {
    "collapsed": false,
    "pycharm": {
     "name": "#%%\n"
    }
   }
  },
  {
   "cell_type": "code",
   "execution_count": 23,
   "outputs": [],
   "source": [
    "def map_city_to_province(city):\n",
    "    province_mapping = {\n",
    "        '上海': '上海',\n",
    "        '上饶': '江西',\n",
    "        '东莞': '广东',\n",
    "        '中卫': '宁夏',\n",
    "        '中山': '广东',\n",
    "        '临汾': '山西',\n",
    "        '临沂': '山东',\n",
    "        '丽水': '浙江',\n",
    "        '义乌': '浙江',\n",
    "        '乌鲁木齐': '新疆',\n",
    "        '九江': '江西',\n",
    "        '仙桃': '湖北',\n",
    "        '佛山': '广东',\n",
    "        '保定': '河北',\n",
    "        '信阳': '河南',\n",
    "        '克拉玛依': '新疆',\n",
    "        '六安': '安徽',\n",
    "        '兰州': '甘肃',\n",
    "        '内江': '四川',\n",
    "        '北京': '北京',\n",
    "        '北海': '广西',\n",
    "        '十堰': '湖北',\n",
    "        '南京': '江苏',\n",
    "        '南宁': '广西',\n",
    "        '南昌': '江西',\n",
    "        '南通': '江苏',\n",
    "        '厦门': '福建',\n",
    "        '合肥': '安徽',\n",
    "        '咸阳': '陕西',\n",
    "        '哈尔滨': '黑龙江',\n",
    "        '唐山': '河北',\n",
    "        '嘉兴': '浙江',\n",
    "        '大连': '辽宁',\n",
    "        '天津': '天津',\n",
    "        '太原': '山西',\n",
    "        '孝感': '湖北',\n",
    "        '宁德': '福建',\n",
    "        '宁波': '浙江',\n",
    "        '安顺': '贵州',\n",
    "        '宜宾': '四川',\n",
    "        '宜昌': '湖北',\n",
    "        '宜春': '江西',\n",
    "        '宝鸡': '陕西',\n",
    "        '宿迁': '江苏',\n",
    "        '巴中': '四川',\n",
    "        '常州': '江苏',\n",
    "        '常熟': '江苏',\n",
    "        '广安': '四川',\n",
    "        '广州': '广东',\n",
    "        '廊坊': '河北',\n",
    "        '开封': '河南',\n",
    "        '张家港': '江苏',\n",
    "        '徐州': '江苏',\n",
    "        '德阳': '四川',\n",
    "        '惠州': '广东',\n",
    "        '成都': '四川',\n",
    "        '扬州': '江苏',\n",
    "        '拉萨': '西藏',\n",
    "        '无锡': '江苏',\n",
    "        '昆山': '江苏',\n",
    "        '昆明': '云南',\n",
    "        '昌吉': '新疆',\n",
    "        '晋中': '山西',\n",
    "        '来宾': '广西',\n",
    "        '杭州': '浙江',\n",
    "        '枣庄': '山东',\n",
    "        '柳州': '广西',\n",
    "        '株洲': '湖南',\n",
    "        '榆林': '陕西',\n",
    "        '武汉': '湖北',\n",
    "        '永州': '湖南',\n",
    "        '汕头': '广东',\n",
    "        '汕尾': '广东',\n",
    "        '江门': '广东',\n",
    "        '池州': '安徽',\n",
    "        '沈阳': '辽宁',\n",
    "        '沧州': '河北',\n",
    "        '河源': '广东',\n",
    "        '泰州': '江苏',\n",
    "        '泸州': '四川',\n",
    "        '洛阳': '河南',\n",
    "        '济南': '山东',\n",
    "        '海口': '海南',\n",
    "        '海宁': '浙江',\n",
    "        '深圳': '广东',\n",
    "        '清远': '广东',\n",
    "        '温州': '浙江',\n",
    "        '渭南': '陕西',\n",
    "        '湖州': '浙江',\n",
    "        '湛江': '广东',\n",
    "        '滁州': '安徽',\n",
    "        '潍坊': '山东',\n",
    "        '烟台': '山东',\n",
    "        '珠海': '广东',\n",
    "        '白银': '甘肃',\n",
    "        '百色': '广西',\n",
    "        '盐城': '江苏',\n",
    "        '眉山': '四川',\n",
    "        '石嘴山': '宁夏',\n",
    "        '石家庄': '河北',\n",
    "        '福州': '福建',\n",
    "        '绍兴': '浙江',\n",
    "        '绵阳': '四川',\n",
    "        '肇庆': '广东',\n",
    "        '自贡': '四川',\n",
    "        '舟山': '浙江',\n",
    "        '芜湖': '安徽',\n",
    "        '苏州': '江苏',\n",
    "        '荆州': '湖北',\n",
    "        '荆门': '湖北',\n",
    "        '菏泽': '山东',\n",
    "        '衢州': '浙江',\n",
    "        '襄阳': '湖北',\n",
    "        '西安': '陕西',\n",
    "        '贵阳': '贵州',\n",
    "        '赣州': '江西',\n",
    "        '运城': '山西',\n",
    "        '连云港': '江苏',\n",
    "        '遂宁': '四川',\n",
    "        '郑州': '河南',\n",
    "        '鄂尔多斯': '内蒙',\n",
    "        '鄂州': '湖北',\n",
    "        '重庆': '重庆',\n",
    "        '金华': '浙江',\n",
    "        '银川': '宁夏',\n",
    "        '镇江': '江苏',\n",
    "        '长春': '吉林',\n",
    "        '长沙': '湖南',\n",
    "        '阜阳': '安徽',\n",
    "        '随州': '湖北',\n",
    "        '雅安': '四川',\n",
    "        '青岛': '山东',\n",
    "        '鞍山': '辽宁',\n",
    "        '马鞍山': '安徽',\n",
    "        '黄石': '湖北',\n",
    "        '黔东南': '贵州',\n",
    "        '陕西省':'陕西',\n",
    "        '浙江省':'浙江',\n",
    "        '江苏省':'江苏',\n",
    "        '四川省':'四川',\n",
    "        '广东省':'广东',\n",
    "        '湖北省':'湖北'\n",
    "    }\n",
    "    if province_mapping.get(city):\n",
    "         province=province_mapping.get(city)\n",
    "    else:\n",
    "        province=city\n",
    "    return province\n",
    "df['省份'] = df['城市'].apply(map_city_to_province)"
   ],
   "metadata": {
    "collapsed": false,
    "pycharm": {
     "name": "#%%\n"
    }
   }
  },
  {
   "cell_type": "code",
   "execution_count": 24,
   "outputs": [
    {
     "name": "stdout",
     "output_type": "stream",
     "text": [
      "<class 'pandas.core.frame.DataFrame'>\n",
      "Int64Index: 8963 entries, 0 to 9999\n",
      "Data columns (total 14 columns):\n",
      " #   Column  Non-Null Count  Dtype  \n",
      "---  ------  --------------  -----  \n",
      " 0   标题      8963 non-null   object \n",
      " 1   地址      8963 non-null   object \n",
      " 2   工资      8963 non-null   object \n",
      " 3   工作经验    8963 non-null   object \n",
      " 4   学历      8963 non-null   object \n",
      " 5   公司标签    8963 non-null   object \n",
      " 6   公司名字    8963 non-null   object \n",
      " 7   经营类型    8963 non-null   object \n",
      " 8   公司规模    8963 non-null   object \n",
      " 9   公司福利    8963 non-null   object \n",
      " 10  城市      8963 non-null   object \n",
      " 11  城区      6391 non-null   object \n",
      " 12  省份      8963 non-null   object \n",
      " 13  平均薪水    8963 non-null   float64\n",
      "dtypes: float64(1), object(13)\n",
      "memory usage: 1.0+ MB\n"
     ]
    }
   ],
   "source": [
    "# 处理工资\n",
    "'''\n",
    "统一将工资规范为 每月平均工资（万元）即 “千/月”。\n",
    "'''\n",
    "# df[df['工资']=='无'] # 查看工资缺失的个数\n",
    "# df['工资'].unique() # 查看工资的唯一性\n",
    "import re\n",
    "def normalize_salary(salary):\n",
    "    try:\n",
    "        # 类型1： 18-25万/年\n",
    "        if '年' in salary:\n",
    "            # 移除单位字符和特殊字符\n",
    "            salary = re.sub(r'[万千/年·薪]','',salary)\n",
    "            if '-' in salary:\n",
    "                start,end = salary.split('-')\n",
    "                # 月工资 = 年工资 /12\n",
    "                start = float(start) /12\n",
    "                end  =  float(end) /12\n",
    "                # print(start,end)\n",
    "                # 平均工资 = 范围工资 /2\n",
    "                salary = (float(start)+float(end)) / 2\n",
    "                salary = np.around(float(salary),decimals=2) #保留两位小数\n",
    "                return salary\n",
    "        else:\n",
    "            # 类型2: 7-1.2万  6千-2万 1-3万\n",
    "            if '万' in salary :\n",
    "                matches = re.sub(r'·\\d+薪', '', salary)\n",
    "                salary = re.sub(r'[万千/年·薪]','',matches)\n",
    "                start,end = salary.split('-')\n",
    "                if float(start) > float(end): # 7-1.2万\n",
    "                    start = float(start) /10 # 千转换为万\n",
    "                    end = float(end)\n",
    "                # 平均工资 = 范围工资 /2\n",
    "                salary = (float(start)+float(end)) / 2\n",
    "                salary = np.around(float(salary),decimals=2) #保留两位小数\n",
    "                return salary\n",
    "            # 类型3： 1-2千\n",
    "            if '千' in salary and '万' not in salary:\n",
    "                salary = re.sub(r'[万千/年·薪]','',salary)\n",
    "                start,end = salary.split('-')\n",
    "                start = float(start) /10 # 千转换为万\n",
    "                end = float(end) /10  # 千转换为万\n",
    "                salary = (float(start)+float(end)) / 2\n",
    "                salary = np.around(float(salary),decimals=2) #保留两位小数\n",
    "                return salary\n",
    "            # 类型4： 200元/天\n",
    "            if '天' in salary :\n",
    "                salary = re.findall(r'\\d+', salary)[0]\n",
    "                salary = float(salary) * 30 / 10000 #日结---> 月结  元/天 ---> 万/月\n",
    "                salary = np.around(float(salary),decimals=2) #保留两位小数\n",
    "                return salary\n",
    "            if '无' in salary:\n",
    "                return None\n",
    "            else:\n",
    "                return None\n",
    "    except:\n",
    "        return None\n",
    "df['平均薪水']=df['工资'].astype(str).apply(normalize_salary)\n",
    "df['平均薪水']=df['平均薪水'].apply(lambda x:x*10)\n",
    "df['平均薪水'].isnull().sum() #查看缺失情况\n",
    "df=df.dropna(subset='平均薪水')\n",
    "df.info()"
   ],
   "metadata": {
    "collapsed": false,
    "pycharm": {
     "name": "#%%\n"
    }
   }
  },
  {
   "cell_type": "code",
   "execution_count": 25,
   "outputs": [],
   "source": [
    "# 给薪水划分等级低、中、高\n",
    "def salary_classification(salary):\n",
    "    if salary <= 9.5:\n",
    "        return \"低\"\n",
    "    elif salary <= 13.0:\n",
    "        return \"中\"\n",
    "    else:\n",
    "        return \"高\"\n",
    "df['薪水等级']=df['平均薪水'].apply(salary_classification)"
   ],
   "metadata": {
    "collapsed": false,
    "pycharm": {
     "name": "#%%\n"
    }
   }
  },
  {
   "cell_type": "code",
   "execution_count": 26,
   "outputs": [
    {
     "data": {
      "text/plain": "'\\n可知暂不用做什么处理\\n'"
     },
     "execution_count": 26,
     "metadata": {},
     "output_type": "execute_result"
    }
   ],
   "source": [
    "# 处理公司经营类型\n",
    "df['经营类型'].unique()\n",
    "'''\n",
    "可知暂不用做什么处理\n",
    "'''"
   ],
   "metadata": {
    "collapsed": false,
    "pycharm": {
     "name": "#%%\n"
    }
   }
  },
  {
   "cell_type": "code",
   "execution_count": 27,
   "outputs": [],
   "source": [
    "# 根据公司标签获取行业领域\n",
    "def map_company_labels(company_labels):\n",
    "    label_map = {\n",
    "        \"计算机软件\": \"IT/互联网\",\n",
    "        \"计算机服务(系统、数据服务、维修)\": \"IT/互联网\",\n",
    "        \"新能源\": \"能源\",\n",
    "        \"通信/电信/网络设备\": \"通信/电信\",\n",
    "        \"互联网/电子商务\": \"IT/互联网\",\n",
    "        \"快速消费品(食品、饮料、化妆品)\": \"消费品\",\n",
    "        \"电子技术/半导体/集成电路\": \"电子/半导体\",\n",
    "        \"金融/投资/证券\": \"金融\",\n",
    "        \"通信/电信运营、增值服务\": \"通信/电信\",\n",
    "        \"仪器仪表/工业自动化\": \"工业\",\n",
    "        \"交通/运输/物流\": \"交通/物流\",\n",
    "        \"教育/培训/院校\": \"教育\",\n",
    "        \"电气/电力/水利\": \"能源\",\n",
    "        \"机械/设备/重工\": \"机械\",\n",
    "        \"专业服务(咨询、人力资源、财会)\": \"专业服务\",\n",
    "        \"房地产\": \"房地产\",\n",
    "        \"医疗设备/器械\": \"医疗\",\n",
    "        \"多元化业务集团公司\": \"其他\",\n",
    "        \"服装/纺织/皮革\": \"服装/纺织\",\n",
    "        \"汽车\": \"汽车\",\n",
    "        \"保险\": \"金融\",\n",
    "        \"政府/公共事业\": \"政府/非盈利\",\n",
    "        \"非营利组织\": \"政府/非盈利\",\n",
    "        \"批发/零售\": \"零售\",\n",
    "        \"建筑/建材/工程\": \"建筑\",\n",
    "        \"会计/审计\": \"会计/审计\",\n",
    "        \"法律\": \"法律\",\n",
    "        \"影视/媒体/艺术/文化传播\": \"媒体/娱乐\",\n",
    "        \"检测，认证\": \"其他\",\n",
    "        \"航天/航空\": \"航空/航天\",\n",
    "        \"环保\": \"环保\",\n",
    "        \"石油/化工/矿产/地质\": \"能源\",\n",
    "        \"学术/科研\": \"科研/院校\",\n",
    "        \"制药/生物工程\": \"医疗\",\n",
    "        \"银行\": \"金融\",\n",
    "        \"计算机硬件\": \"IT/互联网\",\n",
    "        \"文字媒体/出版\": \"媒体/娱乐\",\n",
    "        \"酒店/旅游\": \"酒店/旅游\",\n",
    "        \"餐饮业\": \"餐饮业\",\n",
    "        \"贸易/进出口\": \"贸易\",\n",
    "        \"物业管理/商业中心\": \"房地产\",\n",
    "        \"农/林/牧/渔\": \"农业\",\n",
    "        \"医疗/护理/卫生\": \"医疗\",\n",
    "        \"原材料和加工\": \"工业\",\n",
    "        \"外包服务\": \"专业服务\",\n",
    "        \"印刷/包装/造纸\": \"制造\",\n",
    "        \"家具/家电/玩具/礼品\": \"家居/玩具\",\n",
    "        \"办公用品及设备\": \"办公用品\",\n",
    "        \"广告\": \"广告\",\n",
    "        \"奢侈品/收藏品/工艺品/珠宝\": \"奢侈品\",\n",
    "        \"生活服务\": \"服务业\",\n",
    "        \"中介服务\": \"服务业\",\n",
    "        \"公关/市场推广/会展\": \"广告\",\n",
    "        \"租赁服务\": \"服务业\",\n",
    "        \"娱乐/休闲/体育\": \"媒体/娱乐\",\n",
    "        \"汽车零配件\": \"汽车\",\n",
    "        \"家居/室内设计/装潢\": \"家居/玩具\",\n",
    "        \"网络游戏\": \"游戏\",\n",
    "        \"美容/保健\": \"美容/保健\",\n",
    "        \"采掘业/冶炼\": \"采掘/冶炼\"\n",
    "    }\n",
    "    mapped_label = label_map.get(company_labels)\n",
    "    return mapped_label\n",
    "df['行业领域']=df['公司标签'].apply(lambda x:map_company_labels(x))"
   ],
   "metadata": {
    "collapsed": false,
    "pycharm": {
     "name": "#%%\n"
    }
   }
  },
  {
   "cell_type": "code",
   "execution_count": 15,
   "outputs": [
    {
     "data": {
      "text/plain": "            标题       地址        工资  工作经验  学历               公司标签  \\\n0     大数据开发工程师  上海·浦东新区      2-3万  5-7年  本科              计算机软件   \n1   医用耗材大数据分析师   武汉·武昌区   6千-1.1万    1年  本科  计算机服务(系统、数据服务、维修)   \n5     大数据开发工程师   北京·东城区  35-55万/年  5-7年  本科              计算机软件   \n9     大数据开发工程师   广州·天河区   8千-1.6万    2年  本科  计算机服务(系统、数据服务、维修)   \n13     大数据项目经理   北京·东城区  35-55万/年  5-7年  本科              计算机软件   \n\n              公司名字     经营类型        公司规模  \\\n0   丰盛信息科技（上海）有限公司  外资（非欧美）     50-150人   \n1     武汉麦迪维斯技术有限公司       民营       少于50人   \n5     中远海运科技股份有限公司       国企  1000-5000人   \n9     广州云杉信息科技有限公司       合资       少于50人   \n13    中远海运科技股份有限公司       国企  1000-5000人   \n\n                                                 公司福利  城市    城区  省份  平均薪水  \\\n0   ['5-7年', '本科', 'spark', '大数据', '数据分析', 'python...  上海  浦东新区  上海  25.0   \n1                                        ['1年', '本科']  武汉   武昌区  湖北   8.5   \n5   ['5-7年', '本科', '五险一金', '补充医疗保险', '补充公积金', '交通补...  北京   东城区  北京  37.5   \n9   ['2年', '本科', '大数据', '数据库', '数据分析', '周末双休', '五险...  广州   天河区  广东  12.0   \n13  ['5-7年', '本科', '五险一金', '补充医疗保险', '补充公积金', '交通补...  北京   东城区  北京  37.5   \n\n   薪水等级    行业领域  \n0     高  IT/互联网  \n1     低  IT/互联网  \n5     高  IT/互联网  \n9     中  IT/互联网  \n13    高  IT/互联网  ",
      "text/html": "<div>\n<style scoped>\n    .dataframe tbody tr th:only-of-type {\n        vertical-align: middle;\n    }\n\n    .dataframe tbody tr th {\n        vertical-align: top;\n    }\n\n    .dataframe thead th {\n        text-align: right;\n    }\n</style>\n<table border=\"1\" class=\"dataframe\">\n  <thead>\n    <tr style=\"text-align: right;\">\n      <th></th>\n      <th>标题</th>\n      <th>地址</th>\n      <th>工资</th>\n      <th>工作经验</th>\n      <th>学历</th>\n      <th>公司标签</th>\n      <th>公司名字</th>\n      <th>经营类型</th>\n      <th>公司规模</th>\n      <th>公司福利</th>\n      <th>城市</th>\n      <th>城区</th>\n      <th>省份</th>\n      <th>平均薪水</th>\n      <th>薪水等级</th>\n      <th>行业领域</th>\n    </tr>\n  </thead>\n  <tbody>\n    <tr>\n      <th>0</th>\n      <td>大数据开发工程师</td>\n      <td>上海·浦东新区</td>\n      <td>2-3万</td>\n      <td>5-7年</td>\n      <td>本科</td>\n      <td>计算机软件</td>\n      <td>丰盛信息科技（上海）有限公司</td>\n      <td>外资（非欧美）</td>\n      <td>50-150人</td>\n      <td>['5-7年', '本科', 'spark', '大数据', '数据分析', 'python...</td>\n      <td>上海</td>\n      <td>浦东新区</td>\n      <td>上海</td>\n      <td>25.0</td>\n      <td>高</td>\n      <td>IT/互联网</td>\n    </tr>\n    <tr>\n      <th>1</th>\n      <td>医用耗材大数据分析师</td>\n      <td>武汉·武昌区</td>\n      <td>6千-1.1万</td>\n      <td>1年</td>\n      <td>本科</td>\n      <td>计算机服务(系统、数据服务、维修)</td>\n      <td>武汉麦迪维斯技术有限公司</td>\n      <td>民营</td>\n      <td>少于50人</td>\n      <td>['1年', '本科']</td>\n      <td>武汉</td>\n      <td>武昌区</td>\n      <td>湖北</td>\n      <td>8.5</td>\n      <td>低</td>\n      <td>IT/互联网</td>\n    </tr>\n    <tr>\n      <th>5</th>\n      <td>大数据开发工程师</td>\n      <td>北京·东城区</td>\n      <td>35-55万/年</td>\n      <td>5-7年</td>\n      <td>本科</td>\n      <td>计算机软件</td>\n      <td>中远海运科技股份有限公司</td>\n      <td>国企</td>\n      <td>1000-5000人</td>\n      <td>['5-7年', '本科', '五险一金', '补充医疗保险', '补充公积金', '交通补...</td>\n      <td>北京</td>\n      <td>东城区</td>\n      <td>北京</td>\n      <td>37.5</td>\n      <td>高</td>\n      <td>IT/互联网</td>\n    </tr>\n    <tr>\n      <th>9</th>\n      <td>大数据开发工程师</td>\n      <td>广州·天河区</td>\n      <td>8千-1.6万</td>\n      <td>2年</td>\n      <td>本科</td>\n      <td>计算机服务(系统、数据服务、维修)</td>\n      <td>广州云杉信息科技有限公司</td>\n      <td>合资</td>\n      <td>少于50人</td>\n      <td>['2年', '本科', '大数据', '数据库', '数据分析', '周末双休', '五险...</td>\n      <td>广州</td>\n      <td>天河区</td>\n      <td>广东</td>\n      <td>12.0</td>\n      <td>中</td>\n      <td>IT/互联网</td>\n    </tr>\n    <tr>\n      <th>13</th>\n      <td>大数据项目经理</td>\n      <td>北京·东城区</td>\n      <td>35-55万/年</td>\n      <td>5-7年</td>\n      <td>本科</td>\n      <td>计算机软件</td>\n      <td>中远海运科技股份有限公司</td>\n      <td>国企</td>\n      <td>1000-5000人</td>\n      <td>['5-7年', '本科', '五险一金', '补充医疗保险', '补充公积金', '交通补...</td>\n      <td>北京</td>\n      <td>东城区</td>\n      <td>北京</td>\n      <td>37.5</td>\n      <td>高</td>\n      <td>IT/互联网</td>\n    </tr>\n  </tbody>\n</table>\n</div>"
     },
     "execution_count": 15,
     "metadata": {},
     "output_type": "execute_result"
    }
   ],
   "source": [
    "df.head()"
   ],
   "metadata": {
    "collapsed": false,
    "pycharm": {
     "name": "#%%\n"
    }
   }
  },
  {
   "cell_type": "code",
   "execution_count": 28,
   "outputs": [],
   "source": [
    "df.to_csv('./data/df.csv')"
   ],
   "metadata": {
    "collapsed": false,
    "pycharm": {
     "name": "#%%\n"
    }
   }
  },
  {
   "cell_type": "code",
   "execution_count": 29,
   "outputs": [
    {
     "data": {
      "text/plain": "array(['上海', '湖北', '北京', '广东', '重庆', '云南', '四川', '江苏', '安徽', '江西', '天津',\n       '山东', '福建', '陕西', '河北', '浙江', '甘肃', '河南', '辽宁', '湖南', '海南', '贵州',\n       '山西', '宁夏', '广西', '黑龙江', '西藏', '新疆', '吉林', '内蒙'], dtype=object)"
     },
     "execution_count": 29,
     "metadata": {},
     "output_type": "execute_result"
    }
   ],
   "source": [
    "df['省份'].unique()"
   ],
   "metadata": {
    "collapsed": false,
    "pycharm": {
     "name": "#%%\n"
    }
   }
  },
  {
   "cell_type": "code",
   "execution_count": null,
   "outputs": [],
   "source": [],
   "metadata": {
    "collapsed": false,
    "pycharm": {
     "name": "#%%\n"
    }
   }
  }
 ],
 "metadata": {
  "kernelspec": {
   "display_name": "Python 3",
   "language": "python",
   "name": "python3"
  },
  "language_info": {
   "codemirror_mode": {
    "name": "ipython",
    "version": 2
   },
   "file_extension": ".py",
   "mimetype": "text/x-python",
   "name": "python",
   "nbconvert_exporter": "python",
   "pygments_lexer": "ipython2",
   "version": "2.7.6"
  }
 },
 "nbformat": 4,
 "nbformat_minor": 0
}